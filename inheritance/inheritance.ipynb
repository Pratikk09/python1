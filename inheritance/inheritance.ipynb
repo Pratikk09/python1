{
 "cells": [
  {
   "cell_type": "markdown",
   "metadata": {},
   "source": [
    "### Inheritance"
   ]
  },
  {
   "cell_type": "markdown",
   "metadata": {},
   "source": [
    "#### Singlelevel inheritance"
   ]
  },
  {
   "cell_type": "code",
   "execution_count": 15,
   "metadata": {},
   "outputs": [],
   "source": [
    "class Persson:\n",
    "  def __init__(self, name, age):\n",
    "    self.name = name\n",
    "    self.age = age\n",
    "  \n",
    "  def display(self):\n",
    "    print(\"Name:\", self.name)\n",
    "    print(\"Age:\", self.age)"
   ]
  },
  {
   "cell_type": "code",
   "execution_count": 16,
   "metadata": {},
   "outputs": [],
   "source": [
    "class Student(Persson):\n",
    "  def __init__(self, name, age, grade):\n",
    "    super().__init__(name, age)\n",
    "    self.grade = grade\n",
    "  \n",
    "  def dis(self):\n",
    "    print(f\"Name: {self.name}, Age: {self.age}, Grade: {self.grade}\")"
   ]
  },
  {
   "cell_type": "code",
   "execution_count": 17,
   "metadata": {},
   "outputs": [
    {
     "name": "stdout",
     "output_type": "stream",
     "text": [
      "Name: Pratik\n",
      "Age: 99\n"
     ]
    }
   ],
   "source": [
    "p1= Persson(\"Pratik\", 99)\n",
    "p1.display()"
   ]
  },
  {
   "cell_type": "code",
   "execution_count": 18,
   "metadata": {},
   "outputs": [
    {
     "name": "stdout",
     "output_type": "stream",
     "text": [
      "Name: Pratik, Age: 99, Grade: A\n"
     ]
    }
   ],
   "source": [
    "p2 = Student(\"Pratik\", 99, \"A\")\n",
    "p2.dis()"
   ]
  },
  {
   "cell_type": "code",
   "execution_count": 19,
   "metadata": {},
   "outputs": [
    {
     "name": "stdout",
     "output_type": "stream",
     "text": [
      "Name: Pratik\n",
      "Age: 99\n",
      "Name: Pratik, Age: 99, Grade: A\n"
     ]
    }
   ],
   "source": [
    "p1.display()\n",
    "p2.dis()"
   ]
  },
  {
   "cell_type": "markdown",
   "metadata": {},
   "source": [
    "### Data validation with Pydantic "
   ]
  },
  {
   "cell_type": "code",
   "execution_count": 20,
   "metadata": {},
   "outputs": [
    {
     "name": "stdout",
     "output_type": "stream",
     "text": [
      "Requirement already satisfied: Pydantic in p:\\etlhive\\python\\advance python\\adnace python\\repository\\venv\\lib\\site-packages (2.10.6)Note: you may need to restart the kernel to use updated packages.\n"
     ]
    },
    {
     "name": "stderr",
     "output_type": "stream",
     "text": [
      "\n",
      "[notice] A new release of pip is available: 24.3.1 -> 25.0\n",
      "[notice] To update, run: python.exe -m pip install --upgrade pip\n"
     ]
    },
    {
     "name": "stdout",
     "output_type": "stream",
     "text": [
      "\n",
      "Requirement already satisfied: email-validator in p:\\etlhive\\python\\advance python\\adnace python\\repository\\venv\\lib\\site-packages (2.2.0)\n",
      "Requirement already satisfied: annotated-types>=0.6.0 in p:\\etlhive\\python\\advance python\\adnace python\\repository\\venv\\lib\\site-packages (from Pydantic) (0.7.0)\n",
      "Requirement already satisfied: pydantic-core==2.27.2 in p:\\etlhive\\python\\advance python\\adnace python\\repository\\venv\\lib\\site-packages (from Pydantic) (2.27.2)\n",
      "Requirement already satisfied: typing-extensions>=4.12.2 in p:\\etlhive\\python\\advance python\\adnace python\\repository\\venv\\lib\\site-packages (from Pydantic) (4.12.2)\n",
      "Requirement already satisfied: dnspython>=2.0.0 in p:\\etlhive\\python\\advance python\\adnace python\\repository\\venv\\lib\\site-packages (from email-validator) (2.7.0)\n",
      "Requirement already satisfied: idna>=2.0.0 in p:\\etlhive\\python\\advance python\\adnace python\\repository\\venv\\lib\\site-packages (from email-validator) (3.10)\n"
     ]
    }
   ],
   "source": [
    "%pip install Pydantic email-validator"
   ]
  },
  {
   "cell_type": "code",
   "execution_count": 24,
   "metadata": {},
   "outputs": [],
   "source": [
    "from pydantic import BaseModel,Field, EmailStr"
   ]
  },
  {
   "cell_type": "code",
   "execution_count": 22,
   "metadata": {},
   "outputs": [],
   "source": [
    "from typing import Literal"
   ]
  },
  {
   "cell_type": "code",
   "execution_count": 25,
   "metadata": {},
   "outputs": [],
   "source": [
    "class Student(BaseModel):\n",
    "  roll_no: int = Field(description=\"Roll number of student\", ge=1,le=100)\n",
    "  name: str = Field(description=\"Name of student\", max_length=50)\n",
    "  gender: Literal[\"M\", \"F\"] = Field(description=\"Gender of student\")\n",
    "  email: EmailStr = Field(description=\"Email of student\")\n",
    "  hobbies: list[str] = Field(description=\"Hobbies of student\",default_factory=list)\n",
    "\n",
    "  def get_info(self):\n",
    "    print(f\"Roll number: {self.roll_no}\")\n",
    "    print(f\"Name: {self.name}\")\n",
    "    print(f\"Gender: {self.gender}\")\n",
    "    print(f\"Email: {self.email}\")\n",
    "    print(f\"Hobbies: {self.hobbies}\")\n",
    "\n",
    "\n",
    "\n"
   ]
  },
  {
   "cell_type": "code",
   "execution_count": 26,
   "metadata": {},
   "outputs": [],
   "source": [
    "s1 = Student (\n",
    "  roll_no=1,\n",
    "  name=\"Pratik\",\n",
    "  gender=\"M\",\n",
    "  email=\"Fb4dP@example.com\",\n",
    "  hobbies=[\"Cricket\", \"Football\"]\n",
    ")"
   ]
  },
  {
   "cell_type": "code",
   "execution_count": 28,
   "metadata": {},
   "outputs": [
    {
     "name": "stdout",
     "output_type": "stream",
     "text": [
      "Roll number: 1\n",
      "Name: Pratik\n",
      "Gender: M\n",
      "Email: Fb4dP@example.com\n",
      "Hobbies: ['Cricket', 'Football']\n"
     ]
    }
   ],
   "source": [
    "s1.get_info()"
   ]
  },
  {
   "cell_type": "markdown",
   "metadata": {},
   "source": [
    "### MUltiple inhertance"
   ]
  },
  {
   "cell_type": "code",
   "execution_count": 29,
   "metadata": {},
   "outputs": [],
   "source": [
    "class BaseSalar:\n",
    "  def __init__(self, base_sal:float):\n",
    "    self.base_sal = base_sal\n",
    "\n",
    "  def get_base_sal(self):\n",
    "    return self.base_sal"
   ]
  },
  {
   "cell_type": "code",
   "execution_count": 45,
   "metadata": {},
   "outputs": [],
   "source": [
    "class Bonus:\n",
    "  def __init__(self, bonus_per:float):\n",
    "    self.bonus_per = bonus_per\n",
    "\n",
    "  def cal_bonus(self,sal:float):\n",
    "    Bonus =(self.bonus_per/100)*sal\n",
    "    return Bonus"
   ]
  },
  {
   "cell_type": "code",
   "execution_count": 57,
   "metadata": {},
   "outputs": [],
   "source": [
    "class totalSalar(BaseSalar,Bonus):\n",
    "  def __init__(self,name:str, base_sal:float, bonous_per:float):\n",
    "    BaseSalar.__init__(self,base_sal)\n",
    "    Bonus.__init__(self,bonous_per)\n",
    "    self.name = name\n",
    "\n",
    "  def get_total_sal(self):\n",
    "    Bonus = self.cal_bonus(self.get_base_sal())\n",
    "    totalSalar = self.get_base_sal() + Bonus\n",
    "    print(f\"Name: {self.name}, Total Salar: {totalSalar}\")\n",
    "    return totalSalar\n"
   ]
  },
  {
   "cell_type": "code",
   "execution_count": 58,
   "metadata": {},
   "outputs": [
    {
     "name": "stdout",
     "output_type": "stream",
     "text": [
      "Name: Pratik, Total Salar: 11000.0\n"
     ]
    },
    {
     "data": {
      "text/plain": [
       "11000.0"
      ]
     },
     "execution_count": 58,
     "metadata": {},
     "output_type": "execute_result"
    }
   ],
   "source": [
    "t1= totalSalar(\"Pratik\", 10000, 10)\n",
    "t1.get_total_sal()"
   ]
  },
  {
   "cell_type": "code",
   "execution_count": null,
   "metadata": {},
   "outputs": [],
   "source": []
  }
 ],
 "metadata": {
  "kernelspec": {
   "display_name": "venv",
   "language": "python",
   "name": "python3"
  },
  "language_info": {
   "codemirror_mode": {
    "name": "ipython",
    "version": 3
   },
   "file_extension": ".py",
   "mimetype": "text/x-python",
   "name": "python",
   "nbconvert_exporter": "python",
   "pygments_lexer": "ipython3",
   "version": "3.12.4"
  }
 },
 "nbformat": 4,
 "nbformat_minor": 2
}
