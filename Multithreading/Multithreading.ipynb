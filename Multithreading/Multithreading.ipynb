{
 "cells": [
  {
   "cell_type": "markdown",
   "metadata": {},
   "source": [
    "### Multithreading\n",
    "1. single thread works on one task at a time\n",
    "2. multithreading works on multiple tasks at a time"
   ]
  },
  {
   "cell_type": "code",
   "execution_count": 14,
   "metadata": {},
   "outputs": [],
   "source": [
    "import time"
   ]
  },
  {
   "cell_type": "code",
   "execution_count": 15,
   "metadata": {},
   "outputs": [
    {
     "name": "stdout",
     "output_type": "stream",
     "text": [
      "The final answer is\n"
     ]
    }
   ],
   "source": [
    "time.sleep(1) \n",
    "print(\"The final answer is\")"
   ]
  },
  {
   "cell_type": "code",
   "execution_count": 16,
   "metadata": {},
   "outputs": [],
   "source": [
    "def simple_interst(p,t,r):\n",
    "  print(\"Simple interest Execution stared\")\n",
    "  time.sleep(2)\n",
    "  i=(p*t*r)/100\n",
    "  a=p+i\n",
    "  print(f\"Interst is {i}\")\n",
    "  print(f\"Amount is {a}\")\n",
    "  print(\"Simple interest Execution ended\")\n",
    "  "
   ]
  },
  {
   "cell_type": "code",
   "execution_count": 17,
   "metadata": {},
   "outputs": [
    {
     "name": "stdout",
     "output_type": "stream",
     "text": [
      "Simple interest Execution stared\n",
      "Interst is 200.0\n",
      "Amount is 2200.0\n",
      "Simple interest Execution ended\n",
      "CPU times: total: 0 ns\n",
      "Wall time: 2 s\n"
     ]
    }
   ],
   "source": [
    "%%time\n",
    "simple_interst(2000,2,5)"
   ]
  },
  {
   "cell_type": "code",
   "execution_count": 18,
   "metadata": {},
   "outputs": [],
   "source": [
    "def hypothenus(a,b):\n",
    "  print(\"Hypothenus Execution started\")\n",
    "  time.sleep(1) \n",
    "  c=(a**2 + b**2) ** 0.5\n",
    "  print(f\"Hypothenus is {c}\")\n",
    "  print(\"Hypothenus Execution ended\")"
   ]
  },
  {
   "cell_type": "code",
   "execution_count": 19,
   "metadata": {},
   "outputs": [
    {
     "name": "stdout",
     "output_type": "stream",
     "text": [
      "Hypothenus Execution started\n",
      "Hypothenus is 8.06225774829855\n",
      "Hypothenus Execution ended\n"
     ]
    }
   ],
   "source": [
    "hypothenus(4,7)"
   ]
  },
  {
   "cell_type": "code",
   "execution_count": 20,
   "metadata": {},
   "outputs": [
    {
     "name": "stdout",
     "output_type": "stream",
     "text": [
      "Simple interest Execution stared\n",
      "Interst is 200.0\n",
      "Amount is 2200.0\n",
      "Simple interest Execution ended\n",
      "Hypothenus Execution started\n",
      "Hypothenus is 8.06225774829855\n",
      "Hypothenus Execution ended\n",
      "CPU times: total: 0 ns\n",
      "Wall time: 3 s\n"
     ]
    }
   ],
   "source": [
    "%%time\n",
    "simple_interst(2000,2,5)\n",
    "hypothenus(4,7)"
   ]
  },
  {
   "cell_type": "markdown",
   "metadata": {},
   "source": [
    "### excute 2 function simutaneously"
   ]
  },
  {
   "cell_type": "code",
   "execution_count": 21,
   "metadata": {},
   "outputs": [],
   "source": [
    "from threading import Thread"
   ]
  },
  {
   "cell_type": "code",
   "execution_count": 22,
   "metadata": {},
   "outputs": [
    {
     "name": "stdout",
     "output_type": "stream",
     "text": [
      "Simple interest Execution stared\n",
      "Hypothenus Execution started\n",
      "Hypothenus is 8.06225774829855\n",
      "Hypothenus Execution ended\n",
      "Interst is 200.0\n",
      "Amount is 2200.0\n",
      "Simple interest Execution ended\n",
      "Both threads have completed\n"
     ]
    }
   ],
   "source": [
    "# Create thread\n",
    "th1 = Thread(target=simple_interst, args=(2000,2,5))\n",
    "th2 = Thread(target=hypothenus, args=(4,7))\n",
    "\n",
    "# Start thread\n",
    "th1.start()\n",
    "th2.start()\n",
    "\n",
    "# wait for all threads to complete\n",
    "th1.join()\n",
    "th2.join()\n",
    "print(\"Both threads have completed\")"
   ]
  },
  {
   "cell_type": "code",
   "execution_count": null,
   "metadata": {},
   "outputs": [],
   "source": [
    "# Single function \n",
    "\n",
    "def square(n):\n",
    "  time.sleep(2)\n",
    "  a = n**2\n",
    "  print(f\"Square of {n} is {a}\")"
   ]
  },
  {
   "cell_type": "code",
   "execution_count": 26,
   "metadata": {},
   "outputs": [
    {
     "name": "stdout",
     "output_type": "stream",
     "text": [
      "Square of 5 is 25\n"
     ]
    }
   ],
   "source": [
    "square(5)"
   ]
  },
  {
   "cell_type": "code",
   "execution_count": 30,
   "metadata": {},
   "outputs": [],
   "source": [
    "n = [1,2,3,4,5]\n"
   ]
  },
  {
   "cell_type": "code",
   "execution_count": 32,
   "metadata": {},
   "outputs": [
    {
     "name": "stdout",
     "output_type": "stream",
     "text": [
      "Square of 1 is 1\n",
      "Square of 2 is 4\n",
      "Square of 3 is 9\n",
      "Square of 4 is 16\n",
      "Square of 5 is 25\n",
      "CPU times: total: 0 ns\n",
      "Wall time: 10 s\n"
     ]
    }
   ],
   "source": [
    "%%time\n",
    "for i in n:\n",
    "  square(i)"
   ]
  },
  {
   "cell_type": "code",
   "execution_count": 46,
   "metadata": {},
   "outputs": [],
   "source": [
    "# MULTI THREADING\n",
    "def square_multithreading(m):\n",
    "  threads = []\n",
    "  for i in m:\n",
    "    t = Thread(target=square, args=(i,))\n",
    "    t.start()\n",
    "    threads.append(t)\n",
    "  for t in threads:\n",
    "    t.join()\n",
    "  print(\"All threads have completed\")\n"
   ]
  },
  {
   "cell_type": "code",
   "execution_count": 49,
   "metadata": {},
   "outputs": [
    {
     "name": "stdout",
     "output_type": "stream",
     "text": [
      "Square of 1 is 1Square of 4 is 16\n",
      "\n",
      "Square of 2 is 4\n",
      "Square of 3 is 9\n",
      "Square of 5 is 25\n",
      "All threads have completed\n"
     ]
    }
   ],
   "source": [
    "square_multithreading(n)"
   ]
  },
  {
   "cell_type": "code",
   "execution_count": 52,
   "metadata": {},
   "outputs": [
    {
     "data": {
      "text/plain": [
       "array([  1,   2,   3,   4,   5,   6,   7,   8,   9,  10,  11,  12,  13,\n",
       "        14,  15,  16,  17,  18,  19,  20,  21,  22,  23,  24,  25,  26,\n",
       "        27,  28,  29,  30,  31,  32,  33,  34,  35,  36,  37,  38,  39,\n",
       "        40,  41,  42,  43,  44,  45,  46,  47,  48,  49,  50,  51,  52,\n",
       "        53,  54,  55,  56,  57,  58,  59,  60,  61,  62,  63,  64,  65,\n",
       "        66,  67,  68,  69,  70,  71,  72,  73,  74,  75,  76,  77,  78,\n",
       "        79,  80,  81,  82,  83,  84,  85,  86,  87,  88,  89,  90,  91,\n",
       "        92,  93,  94,  95,  96,  97,  98,  99, 100, 101, 102, 103, 104,\n",
       "       105, 106, 107, 108, 109, 110])"
      ]
     },
     "execution_count": 52,
     "metadata": {},
     "output_type": "execute_result"
    }
   ],
   "source": [
    "import numpy as np\n",
    "m= np.arange(1,111 , 1)\n",
    "m\n"
   ]
  },
  {
   "cell_type": "code",
   "execution_count": 53,
   "metadata": {},
   "outputs": [],
   "source": [
    "urls = [\n",
    "\n",
    "]"
   ]
  },
  {
   "cell_type": "code",
   "execution_count": null,
   "metadata": {},
   "outputs": [],
   "source": [
    "from urllib.request import urlretrieve"
   ]
  },
  {
   "cell_type": "code",
   "execution_count": 55,
   "metadata": {},
   "outputs": [],
   "source": [
    "def download(url):\n",
    "  filename = url.split(\"/\")[-1]\n",
    "  print(f\"{filename} is downloading\")\n",
    "  urlretrieve(url, filename)\n",
    "  print(f\"{filename} is downloaded\")\n",
    "  return filename"
   ]
  },
  {
   "cell_type": "code",
   "execution_count": 60,
   "metadata": {},
   "outputs": [],
   "source": [
    "### Multi threading\n",
    "\n",
    "def download_multithreading(urls):\n",
    "  threads = []\n",
    "  for url in urls:\n",
    "    t = Thread(target=download, args=(url,))\n",
    "    t.start()\n",
    "    threads.append(t)\n",
    "  for t in threads:\n",
    "    t.join()\n",
    "  print(\"All threads have completed\")\n"
   ]
  },
  {
   "cell_type": "code",
   "execution_count": null,
   "metadata": {},
   "outputs": [],
   "source": []
  }
 ],
 "metadata": {
  "kernelspec": {
   "display_name": "venv",
   "language": "python",
   "name": "python3"
  },
  "language_info": {
   "codemirror_mode": {
    "name": "ipython",
    "version": 3
   },
   "file_extension": ".py",
   "mimetype": "text/x-python",
   "name": "python",
   "nbconvert_exporter": "python",
   "pygments_lexer": "ipython3",
   "version": "3.12.4"
  }
 },
 "nbformat": 4,
 "nbformat_minor": 2
}
