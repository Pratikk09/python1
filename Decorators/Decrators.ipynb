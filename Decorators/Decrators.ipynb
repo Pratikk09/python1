{
 "cells": [
  {
   "cell_type": "markdown",
   "metadata": {},
   "source": [
    "### Decrators \n",
    "1. Modify the behavior of the function\n",
    "2. input can be function in general\n",
    "3. Output function is called wrapper"
   ]
  },
  {
   "cell_type": "code",
   "execution_count": 1,
   "metadata": {},
   "outputs": [],
   "source": [
    "def welcome(fun):\n",
    "  def wrapper(*args, **kwargs):\n",
    "    print(\"Welcome\")\n",
    "    r = fun(*args, **kwargs)\n",
    "    print(f\"function return value is {r}\")\n",
    "    print(\"Thanks for using our service\")\n",
    "    return r\n",
    "  return wrapper\n",
    "  \n",
    "  "
   ]
  },
  {
   "cell_type": "code",
   "execution_count": 2,
   "metadata": {},
   "outputs": [],
   "source": [
    "@welcome\n",
    "def add(a,b):\n",
    "  return a+b"
   ]
  },
  {
   "cell_type": "code",
   "execution_count": 3,
   "metadata": {},
   "outputs": [
    {
     "name": "stdout",
     "output_type": "stream",
     "text": [
      "Welcome\n",
      "function return value is 30\n",
      "Thanks for using our service\n"
     ]
    },
    {
     "data": {
      "text/plain": [
       "30"
      ]
     },
     "execution_count": 3,
     "metadata": {},
     "output_type": "execute_result"
    }
   ],
   "source": [
    "add(10,20)\n"
   ]
  },
  {
   "cell_type": "code",
   "execution_count": 8,
   "metadata": {},
   "outputs": [],
   "source": [
    "@welcome\n",
    "def simpleinterst(p, t, r):\n",
    "    i = (p * t * r) / 100\n",
    "    a = p + i\n",
    "    return i,a"
   ]
  },
  {
   "cell_type": "code",
   "execution_count": 13,
   "metadata": {},
   "outputs": [
    {
     "name": "stdout",
     "output_type": "stream",
     "text": [
      "Welcome\n",
      "function return value is (2000.0, 12000.0)\n",
      "Thanks for using our service\n"
     ]
    },
    {
     "data": {
      "text/plain": [
       "(2000.0, 12000.0)"
      ]
     },
     "execution_count": 13,
     "metadata": {},
     "output_type": "execute_result"
    }
   ],
   "source": [
    "simpleinterst(10000, 2, 10)"
   ]
  },
  {
   "cell_type": "markdown",
   "metadata": {},
   "source": [
    "### Measuer time required to any code"
   ]
  },
  {
   "cell_type": "code",
   "execution_count": 14,
   "metadata": {},
   "outputs": [],
   "source": [
    "import time"
   ]
  },
  {
   "cell_type": "code",
   "execution_count": null,
   "metadata": {},
   "outputs": [
    {
     "name": "stdout",
     "output_type": "stream",
     "text": [
      "pratik\n",
      "Mehta\n",
      "Time taken is 2.50sec\n"
     ]
    }
   ],
   "source": [
    "#Strat time\n",
    "start = time.perf_counter()\n",
    "\n",
    "time.sleep(1)\n",
    "print(\"pratik\")\n",
    "time.sleep(1.5)\n",
    "print(\"Mehta\")\n",
    "\n",
    "#Stop time\n",
    "stop = time.perf_counter()\n",
    "\n",
    "#get the elapsed time\n",
    "elapsed_time = stop - start\n",
    "\n",
    "print(f\"Time taken is {elapsed_time:.2f}sec\")"
   ]
  },
  {
   "cell_type": "code",
   "execution_count": 29,
   "metadata": {},
   "outputs": [],
   "source": [
    "def time_decorator(func):\n",
    "  def wrapper(*args, **kwargs):\n",
    "    start = time.perf_counter()\n",
    "    r = func(*args, **kwargs)\n",
    "    print(f\"function return value is {r}\")\n",
    "    stop = time.perf_counter()\n",
    "    elapsed_time = stop - start\n",
    "    print(f\"Time taken is {elapsed_time:.2f}sec\")\n",
    "    return r\n",
    "  return wrapper"
   ]
  },
  {
   "cell_type": "code",
   "execution_count": 33,
   "metadata": {},
   "outputs": [],
   "source": [
    "@time_decorator\n",
    "def add(a,b):\n",
    "  time.sleep(1.6)\n",
    "  c = a+b\n",
    "  return c\n"
   ]
  },
  {
   "cell_type": "code",
   "execution_count": 34,
   "metadata": {},
   "outputs": [
    {
     "name": "stdout",
     "output_type": "stream",
     "text": [
      "function return value is 30\n",
      "Time taken is 1.60sec\n"
     ]
    },
    {
     "data": {
      "text/plain": [
       "30"
      ]
     },
     "execution_count": 34,
     "metadata": {},
     "output_type": "execute_result"
    }
   ],
   "source": [
    "add(10,20)"
   ]
  },
  {
   "cell_type": "code",
   "execution_count": 35,
   "metadata": {},
   "outputs": [],
   "source": [
    "@time_decorator\n",
    "def square(a):\n",
    "  time.sleep(1.6)\n",
    "  c = a**2\n",
    "  return c"
   ]
  },
  {
   "cell_type": "code",
   "execution_count": 36,
   "metadata": {},
   "outputs": [
    {
     "name": "stdout",
     "output_type": "stream",
     "text": [
      "function return value is 100\n",
      "Time taken is 1.60sec\n"
     ]
    },
    {
     "data": {
      "text/plain": [
       "100"
      ]
     },
     "execution_count": 36,
     "metadata": {},
     "output_type": "execute_result"
    }
   ],
   "source": [
    "square(10)"
   ]
  },
  {
   "cell_type": "code",
   "execution_count": 38,
   "metadata": {},
   "outputs": [
    {
     "name": "stdout",
     "output_type": "stream",
     "text": [
      "https://raw.githubusercontent.com/utkarshg1/mlproject_regression/refs/heads/main/artifacts/data.csv\n"
     ]
    }
   ],
   "source": [
    "url=\"https://raw.githubusercontent.com/utkarshg1/mlproject_regression/refs/heads/main/artifacts/data.csv\"\n",
    "print(url)"
   ]
  },
  {
   "cell_type": "code",
   "execution_count": 39,
   "metadata": {},
   "outputs": [
    {
     "data": {
      "text/plain": [
       "['https:',\n",
       " '',\n",
       " 'raw.githubusercontent.com',\n",
       " 'utkarshg1',\n",
       " 'mlproject_regression',\n",
       " 'refs',\n",
       " 'heads',\n",
       " 'main',\n",
       " 'artifacts',\n",
       " 'data.csv']"
      ]
     },
     "execution_count": 39,
     "metadata": {},
     "output_type": "execute_result"
    }
   ],
   "source": [
    "url.split(\"/\")"
   ]
  },
  {
   "cell_type": "code",
   "execution_count": 40,
   "metadata": {},
   "outputs": [
    {
     "data": {
      "text/plain": [
       "'data.csv'"
      ]
     },
     "execution_count": 40,
     "metadata": {},
     "output_type": "execute_result"
    }
   ],
   "source": [
    "url.split(\"/\")[-1]\n"
   ]
  },
  {
   "cell_type": "code",
   "execution_count": 42,
   "metadata": {},
   "outputs": [],
   "source": [
    "from urllib.request import urlretrieve"
   ]
  },
  {
   "cell_type": "code",
   "execution_count": 43,
   "metadata": {},
   "outputs": [],
   "source": [
    "@time_decorator\n",
    "def download(url):\n",
    "  filename = url.split(\"/\")[-1]\n",
    "  print(f\"{filename} is downloading\")\n",
    "  urlretrieve(url, filename)\n",
    "  print(f\"{filename} is downloaded\")\n",
    "  return filename"
   ]
  },
  {
   "cell_type": "code",
   "execution_count": 44,
   "metadata": {},
   "outputs": [
    {
     "name": "stdout",
     "output_type": "stream",
     "text": [
      "data.csv is downloading\n",
      "data.csv is downloaded\n",
      "function return value is data.csv\n",
      "Time taken is 11.16sec\n"
     ]
    },
    {
     "data": {
      "text/plain": [
       "'data.csv'"
      ]
     },
     "execution_count": 44,
     "metadata": {},
     "output_type": "execute_result"
    }
   ],
   "source": [
    "download(url)"
   ]
  },
  {
   "cell_type": "code",
   "execution_count": null,
   "metadata": {},
   "outputs": [],
   "source": []
  }
 ],
 "metadata": {
  "kernelspec": {
   "display_name": "venv",
   "language": "python",
   "name": "python3"
  },
  "language_info": {
   "codemirror_mode": {
    "name": "ipython",
    "version": 3
   },
   "file_extension": ".py",
   "mimetype": "text/x-python",
   "name": "python",
   "nbconvert_exporter": "python",
   "pygments_lexer": "ipython3",
   "version": "3.12.4"
  }
 },
 "nbformat": 4,
 "nbformat_minor": 2
}
