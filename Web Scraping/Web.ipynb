{
 "cells": [
  {
   "cell_type": "markdown",
   "metadata": {},
   "source": [
    "### WebScraping\n",
    "Collect Data from internet Directly"
   ]
  },
  {
   "cell_type": "code",
   "execution_count": 3,
   "metadata": {},
   "outputs": [],
   "source": [
    "from warnings import filterwarnings\n",
    "filterwarnings(\"ignore\")"
   ]
  },
  {
   "cell_type": "markdown",
   "metadata": {},
   "source": [
    "### Scrapain Wikipedia website"
   ]
  },
  {
   "cell_type": "code",
   "execution_count": 4,
   "metadata": {},
   "outputs": [
    {
     "name": "stdout",
     "output_type": "stream",
     "text": [
      "https://en.wikipedia.org/wiki/World_population\n"
     ]
    }
   ],
   "source": [
    "url = \"https://en.wikipedia.org/wiki/World_population\"\n",
    "print(url)"
   ]
  },
  {
   "cell_type": "code",
   "execution_count": 5,
   "metadata": {},
   "outputs": [
    {
     "name": "stdout",
     "output_type": "stream",
     "text": [
      "Requirement already satisfied: requests in p:\\etlhive\\python\\advance python\\adnace python\\repository\\venv\\lib\\site-packages (2.32.3)\n",
      "Requirement already satisfied: bs4 in p:\\etlhive\\python\\advance python\\adnace python\\repository\\venv\\lib\\site-packages (0.0.2)\n",
      "Requirement already satisfied: charset-normalizer<4,>=2 in p:\\etlhive\\python\\advance python\\adnace python\\repository\\venv\\lib\\site-packages (from requests) (3.4.1)\n",
      "Requirement already satisfied: idna<4,>=2.5 in p:\\etlhive\\python\\advance python\\adnace python\\repository\\venv\\lib\\site-packages (from requests) (3.10)\n",
      "Requirement already satisfied: urllib3<3,>=1.21.1 in p:\\etlhive\\python\\advance python\\adnace python\\repository\\venv\\lib\\site-packages (from requests) (2.3.0)\n",
      "Requirement already satisfied: certifi>=2017.4.17 in p:\\etlhive\\python\\advance python\\adnace python\\repository\\venv\\lib\\site-packages (from requests) (2024.12.14)\n",
      "Requirement already satisfied: beautifulsoup4 in p:\\etlhive\\python\\advance python\\adnace python\\repository\\venv\\lib\\site-packages (from bs4) (4.12.3)\n",
      "Requirement already satisfied: soupsieve>1.2 in p:\\etlhive\\python\\advance python\\adnace python\\repository\\venv\\lib\\site-packages (from beautifulsoup4->bs4) (2.6)\n",
      "Note: you may need to restart the kernel to use updated packages.\n"
     ]
    },
    {
     "name": "stderr",
     "output_type": "stream",
     "text": [
      "\n",
      "[notice] A new release of pip is available: 24.3.1 -> 25.0.1\n",
      "[notice] To update, run: python.exe -m pip install --upgrade pip\n"
     ]
    }
   ],
   "source": [
    "%pip install requests bs4"
   ]
  },
  {
   "cell_type": "markdown",
   "metadata": {},
   "source": [
    "### Get HTML content from url"
   ]
  },
  {
   "cell_type": "code",
   "execution_count": 6,
   "metadata": {},
   "outputs": [],
   "source": [
    "import requests"
   ]
  },
  {
   "cell_type": "code",
   "execution_count": 7,
   "metadata": {},
   "outputs": [
    {
     "name": "stdout",
     "output_type": "stream",
     "text": [
      "<Response [200]>\n"
     ]
    }
   ],
   "source": [
    "response = requests.get(url)\n",
    "print(response)"
   ]
  },
  {
   "cell_type": "code",
   "execution_count": 8,
   "metadata": {},
   "outputs": [
    {
     "name": "stdout",
     "output_type": "stream",
     "text": [
      "b'<!DOCTYPE html>\\n<html class=\"client-nojs vector-feature-language-in-header-enabled vector-feature-la'\n"
     ]
    }
   ],
   "source": [
    "content = response.content\n",
    "print(content[0:100])"
   ]
  },
  {
   "cell_type": "markdown",
   "metadata": {},
   "source": [
    "### Create a Soup to find specific content\n"
   ]
  },
  {
   "cell_type": "code",
   "execution_count": 9,
   "metadata": {},
   "outputs": [],
   "source": [
    "from bs4 import BeautifulSoup as bs"
   ]
  },
  {
   "cell_type": "code",
   "execution_count": 10,
   "metadata": {},
   "outputs": [],
   "source": [
    "soup = bs(content)\n"
   ]
  },
  {
   "cell_type": "code",
   "execution_count": 11,
   "metadata": {},
   "outputs": [
    {
     "data": {
      "text/plain": [
       "bs4.BeautifulSoup"
      ]
     },
     "execution_count": 11,
     "metadata": {},
     "output_type": "execute_result"
    }
   ],
   "source": [
    "type(soup)"
   ]
  },
  {
   "cell_type": "code",
   "execution_count": 12,
   "metadata": {},
   "outputs": [],
   "source": [
    "titel = soup.find(\"title\")"
   ]
  },
  {
   "cell_type": "code",
   "execution_count": 13,
   "metadata": {},
   "outputs": [
    {
     "name": "stdout",
     "output_type": "stream",
     "text": [
      "<title>World population - Wikipedia</title>\n"
     ]
    }
   ],
   "source": [
    "print(titel)"
   ]
  },
  {
   "cell_type": "code",
   "execution_count": 14,
   "metadata": {},
   "outputs": [
    {
     "data": {
      "text/plain": [
       "'World population - Wikipedia'"
      ]
     },
     "execution_count": 14,
     "metadata": {},
     "output_type": "execute_result"
    }
   ],
   "source": [
    "titel.text"
   ]
  },
  {
   "cell_type": "code",
   "execution_count": 15,
   "metadata": {},
   "outputs": [
    {
     "name": "stdout",
     "output_type": "stream",
     "text": [
      "<h1 class=\"firstHeading mw-first-heading\" id=\"firstHeading\"><span class=\"mw-page-title-main\">World population</span></h1>\n"
     ]
    }
   ],
   "source": [
    "h1 = soup.find(\"h1\")\n",
    "print(h1)"
   ]
  },
  {
   "cell_type": "code",
   "execution_count": 16,
   "metadata": {},
   "outputs": [
    {
     "data": {
      "text/plain": [
       "'World population'"
      ]
     },
     "execution_count": 16,
     "metadata": {},
     "output_type": "execute_result"
    }
   ],
   "source": [
    "h1.text"
   ]
  },
  {
   "cell_type": "markdown",
   "metadata": {},
   "source": [
    "### get multiple tags"
   ]
  },
  {
   "cell_type": "code",
   "execution_count": 35,
   "metadata": {},
   "outputs": [
    {
     "data": {
      "text/plain": [
       "bs4.element.ResultSet"
      ]
     },
     "execution_count": 35,
     "metadata": {},
     "output_type": "execute_result"
    }
   ],
   "source": [
    "sub_tage = soup.find_all(\"div\", class_ = \"mw-heading\")\n",
    "type(sub_tage)"
   ]
  },
  {
   "cell_type": "code",
   "execution_count": 37,
   "metadata": {},
   "outputs": [
    {
     "data": {
      "text/plain": [
       "[<div class=\"mw-heading mw-heading2\"><h2 id=\"History\">History</h2></div>,\n",
       " <div class=\"mw-heading mw-heading3\"><h3 id=\"Ancient_and_post-classical_history\">Ancient and post-classical history</h3></div>,\n",
       " <div class=\"mw-heading mw-heading3\"><h3 id=\"Modern_history\">Modern history</h3></div>,\n",
       " <div class=\"mw-heading mw-heading3\"><h3 id=\"Milestones_by_the_billions\">Milestones by the billions</h3></div>,\n",
       " <div class=\"mw-heading mw-heading2\"><h2 id=\"Global_demographics\">Global demographics</h2></div>,\n",
       " <div class=\"mw-heading mw-heading2\"><h2 id=\"Population_by_region\">Population by region</h2></div>,\n",
       " <div class=\"mw-heading mw-heading2\"><h2 id=\"Largest_populations_by_country\">Largest populations by country</h2></div>,\n",
       " <div class=\"mw-heading mw-heading3\"><h3 id=\"Ten_most_populous_countries\">Ten most populous countries</h3></div>,\n",
       " <div class=\"mw-heading mw-heading3\"><h3 id=\"Most_densely_populated_countries\">Most densely populated countries</h3></div>,\n",
       " <div class=\"mw-heading mw-heading2\"><h2 id=\"Fluctuation\">Fluctuation</h2></div>,\n",
       " <div class=\"mw-heading mw-heading3\"><h3 id=\"Annual_population_growth\">Annual population growth</h3></div>,\n",
       " <div class=\"mw-heading mw-heading3\"><h3 id=\"Population_growth_by_region\">Population growth by region</h3></div>,\n",
       " <div class=\"mw-heading mw-heading3\"><h3 id=\"Past_population\">Past population</h3></div>,\n",
       " <div class=\"mw-heading mw-heading3\"><h3 id=\"Projections\">Projections</h3></div>,\n",
       " <div class=\"mw-heading mw-heading2\"><h2 id=\"Mathematical_approximations\">Mathematical approximations</h2></div>,\n",
       " <div class=\"mw-heading mw-heading3\"><h3 id=\"Years_for_world_population_to_double\">Years for world population to double</h3></div>,\n",
       " <div class=\"mw-heading mw-heading2\"><h2 id=\"Number_of_humans_who_have_ever_lived\">Number of humans who have ever lived</h2></div>,\n",
       " <div class=\"mw-heading mw-heading2\"><h2 id=\"Human_population_as_a_function_of_food_availability\">Human population as a function of food availability</h2></div>,\n",
       " <div class=\"mw-heading mw-heading2\"><h2 id=\"See_also\">See also</h2></div>,\n",
       " <div class=\"mw-heading mw-heading2\"><h2 id=\"Explanatory_notes\">Explanatory notes</h2></div>,\n",
       " <div class=\"mw-heading mw-heading2\"><h2 id=\"References\">References</h2></div>,\n",
       " <div class=\"mw-heading mw-heading3\"><h3 id=\"Citations\">Citations</h3></div>,\n",
       " <div class=\"mw-heading mw-heading3\"><h3 id=\"General_and_cited_sources\">General and cited sources</h3></div>,\n",
       " <div class=\"mw-heading mw-heading2\"><h2 id=\"Further_reading\">Further reading</h2></div>,\n",
       " <div class=\"mw-heading mw-heading2\"><h2 id=\"External_links\">External links</h2></div>]"
      ]
     },
     "execution_count": 37,
     "metadata": {},
     "output_type": "execute_result"
    }
   ],
   "source": [
    "sub_tage"
   ]
  },
  {
   "cell_type": "code",
   "execution_count": 38,
   "metadata": {},
   "outputs": [
    {
     "data": {
      "text/plain": [
       "['History',\n",
       " 'Ancient and post-classical history',\n",
       " 'Modern history',\n",
       " 'Milestones by the billions',\n",
       " 'Global demographics',\n",
       " 'Population by region',\n",
       " 'Largest populations by country',\n",
       " 'Ten most populous countries',\n",
       " 'Most densely populated countries',\n",
       " 'Fluctuation',\n",
       " 'Annual population growth',\n",
       " 'Population growth by region',\n",
       " 'Past population',\n",
       " 'Projections',\n",
       " 'Mathematical approximations',\n",
       " 'Years for world population to double',\n",
       " 'Number of humans who have ever lived',\n",
       " 'Human population as a function of food availability',\n",
       " 'See also',\n",
       " 'Explanatory notes',\n",
       " 'References',\n",
       " 'Citations',\n",
       " 'General and cited sources',\n",
       " 'Further reading',\n",
       " 'External links']"
      ]
     },
     "execution_count": 38,
     "metadata": {},
     "output_type": "execute_result"
    }
   ],
   "source": [
    "text = [content.text for content in sub_tage]\n",
    "text"
   ]
  },
  {
   "cell_type": "code",
   "execution_count": null,
   "metadata": {},
   "outputs": [],
   "source": []
  }
 ],
 "metadata": {
  "kernelspec": {
   "display_name": "venv",
   "language": "python",
   "name": "python3"
  },
  "language_info": {
   "codemirror_mode": {
    "name": "ipython",
    "version": 3
   },
   "file_extension": ".py",
   "mimetype": "text/x-python",
   "name": "python",
   "nbconvert_exporter": "python",
   "pygments_lexer": "ipython3",
   "version": "3.12.4"
  }
 },
 "nbformat": 4,
 "nbformat_minor": 2
}
